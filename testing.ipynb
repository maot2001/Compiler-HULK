{
 "cells": [
  {
   "cell_type": "code",
   "execution_count": 1,
   "metadata": {},
   "outputs": [],
   "source": [
    "from HULK_lexer_parser import HulkParser\n",
    "parser = HulkParser()"
   ]
  },
  {
   "cell_type": "code",
   "execution_count": 2,
   "metadata": {},
   "outputs": [],
   "source": [
    "from HULK_lexer_parser import HulkLexer\n",
    "lexer = HulkLexer()"
   ]
  },
  {
   "cell_type": "markdown",
   "metadata": {},
   "source": [
    "# Expressions"
   ]
  },
  {
   "cell_type": "code",
   "execution_count": 3,
   "metadata": {},
   "outputs": [],
   "source": [
    "program = ''' 42; '''\n",
    "\n",
    "tokens = lexer(program)\n",
    "parse = parser([token.token_type for token in tokens])\n",
    "assert parse is not None"
   ]
  },
  {
   "cell_type": "code",
   "execution_count": 4,
   "metadata": {},
   "outputs": [],
   "source": [
    "program = '''print(42);'''\n",
    "\n",
    "tokens = lexer(program)\n",
    "parse = parser([token.token_type for token in tokens])\n",
    "assert parse is not None"
   ]
  },
  {
   "cell_type": "code",
   "execution_count": 5,
   "metadata": {},
   "outputs": [],
   "source": [
    "program = '''print((((1 + 2) ^ 3) * 4) / 5);'''\n",
    "\n",
    "tokens = lexer(program)\n",
    "parse = parser([token.token_type for token in tokens])\n",
    "assert parse is not None"
   ]
  },
  {
   "cell_type": "code",
   "execution_count": 6,
   "metadata": {},
   "outputs": [],
   "source": [
    "program = '''print(\"Hello World\");'''\n",
    "\n",
    "tokens = lexer(program)\n",
    "parse = parser([token.token_type for token in tokens])\n",
    "assert parse is not None"
   ]
  },
  {
   "cell_type": "code",
   "execution_count": 9,
   "metadata": {},
   "outputs": [],
   "source": [
    "program = '''print(\"The message is \\\\\"Hello World\\\\\"\");'''\n",
    "\n",
    "tokens = lexer(program)\n",
    "parse = parser([token.token_type for token in tokens])\n",
    "assert parse is not None"
   ]
  },
  {
   "cell_type": "code",
   "execution_count": 10,
   "metadata": {},
   "outputs": [],
   "source": [
    "program = '''print(\"The meaning of life is \" @ 42);'''\n",
    "\n",
    "tokens = lexer(program)\n",
    "parse = parser([token.token_type for token in tokens])\n",
    "assert parse is not None"
   ]
  },
  {
   "cell_type": "code",
   "execution_count": 12,
   "metadata": {},
   "outputs": [],
   "source": [
    "program = '''print(sin(2 * pI) ^ 2 + cos(3 * pI / log(4, 64)));'''\n",
    "\n",
    "tokens = lexer(program)\n",
    "parse = parser([token.token_type for token in tokens])\n",
    "assert parse is not None"
   ]
  },
  {
   "cell_type": "code",
   "execution_count": 15,
   "metadata": {},
   "outputs": [
    {
     "name": "stdout",
     "output_type": "stream",
     "text": [
      "[{: {, id: print, (: (, num: 42, ): ), ;: ;, id: print, (: (, id: sin, (: (, id: pI, /: /, num: 2, ): ), ): ), ;: ;, id: print, (: (, str: \"Hello World\", ): ), ;: ;, }: }, $: $]\n"
     ]
    }
   ],
   "source": [
    "program = '''{\n",
    "    print(42);\n",
    "    print(sin(pI/2));\n",
    "    print(\"Hello World\");\n",
    "}\n",
    "'''\n",
    "\n",
    "tokens = lexer(program)\n",
    "print(tokens)\n",
    "parse = parser([token.token_type for token in tokens])\n",
    "assert parse is not None"
   ]
  },
  {
   "cell_type": "markdown",
   "metadata": {},
   "source": [
    "# Functions"
   ]
  },
  {
   "cell_type": "code",
   "execution_count": 18,
   "metadata": {},
   "outputs": [
    {
     "name": "stdout",
     "output_type": "stream",
     "text": [
      "[function: function, id: tan, (: (, id: x, ): ), =>: =>, id: sin, (: (, id: x, ): ), /: /, id: cos, (: (, id: x, ): ), ;: ;, id: a, ;: ;, $: $]\n"
     ]
    }
   ],
   "source": [
    "program = '''function tan(x) => sin(x) / cos(x);\n",
    "\n",
    "a;'''\n",
    "\n",
    "tokens = lexer(program)\n",
    "print(tokens)\n",
    "parse = parser([token.token_type for token in tokens])\n",
    "assert parse is not None"
   ]
  },
  {
   "cell_type": "code",
   "execution_count": 20,
   "metadata": {},
   "outputs": [],
   "source": [
    "program = ''' function cot(x) => 1 / tan(x);\n",
    "function tan(x) => sin(x) / cos(x);\n",
    "\n",
    "print(tan(pI) ^ 2 + cot(pI) ^ 2);\n",
    "'''\n",
    "\n",
    "tokens = lexer(program)\n",
    "parse = parser([token.token_type for token in tokens])\n",
    "assert parse is not None"
   ]
  },
  {
   "cell_type": "code",
   "execution_count": 21,
   "metadata": {},
   "outputs": [],
   "source": [
    "program = '''function operate(x, y) {\n",
    "    print(x + y);\n",
    "    print(x - y);\n",
    "    print(x * y);\n",
    "    print(x / y);\n",
    "}\n",
    "a;\n",
    "'''\n",
    "\n",
    "tokens = lexer(program)\n",
    "parse = parser([token.token_type for token in tokens])\n",
    "assert parse is not None"
   ]
  },
  {
   "cell_type": "markdown",
   "metadata": {},
   "source": [
    "# Variables"
   ]
  },
  {
   "cell_type": "code",
   "execution_count": 22,
   "metadata": {},
   "outputs": [],
   "source": [
    "program = '''let msg = \"Hello World\" in print(msg);\n",
    "'''\n",
    "\n",
    "tokens = lexer(program)\n",
    "parse = parser([token.token_type for token in tokens])\n",
    "assert parse is not None"
   ]
  },
  {
   "cell_type": "code",
   "execution_count": 28,
   "metadata": {},
   "outputs": [
    {
     "name": "stdout",
     "output_type": "stream",
     "text": [
      "[let: let, id: number, =: =, num: 42, ,: ,, id: text, =: =, str: \"The meaning of life is\", in: in, id: print, (: (, id: text, @: @, id: number, ): ), ;: ;, $: $]\n"
     ]
    },
    {
     "ename": "AssertionError",
     "evalue": "",
     "output_type": "error",
     "traceback": [
      "\u001b[1;31m---------------------------------------------------------------------------\u001b[0m",
      "\u001b[1;31mAssertionError\u001b[0m                            Traceback (most recent call last)",
      "Cell \u001b[1;32mIn[28], line 8\u001b[0m\n\u001b[0;32m      6\u001b[0m \u001b[38;5;28mprint\u001b[39m(tokens)\n\u001b[0;32m      7\u001b[0m parse \u001b[38;5;241m=\u001b[39m parser([token\u001b[38;5;241m.\u001b[39mtoken_type \u001b[38;5;28;01mfor\u001b[39;00m token \u001b[38;5;129;01min\u001b[39;00m tokens])\n\u001b[1;32m----> 8\u001b[0m \u001b[38;5;28;01massert\u001b[39;00m parse \u001b[38;5;129;01mis\u001b[39;00m \u001b[38;5;129;01mnot\u001b[39;00m \u001b[38;5;28;01mNone\u001b[39;00m\n",
      "\u001b[1;31mAssertionError\u001b[0m: "
     ]
    }
   ],
   "source": [
    "program = '''let number = 42 , text = \"The meaning of life is\" in\n",
    "    print(text @ number) ;\n",
    "'''\n",
    "\n",
    "tokens = lexer(program)\n",
    "print(tokens)\n",
    "parse = parser([token.token_type for token in tokens])\n",
    "assert parse is not None"
   ]
  },
  {
   "cell_type": "code",
   "execution_count": 29,
   "metadata": {},
   "outputs": [],
   "source": [
    "program = '''let number = 42 in\n",
    "    let text = \"The meaning of life is\" in\n",
    "        print(text @ number);\n",
    " '''\n",
    "\n",
    "tokens = lexer(program)\n",
    "parse = parser([token.token_type for token in tokens])\n",
    "assert parse is not None"
   ]
  },
  {
   "cell_type": "code",
   "execution_count": 30,
   "metadata": {},
   "outputs": [],
   "source": [
    "program = '''let number = 42 in (\n",
    "    let text = \"The meaning of life is\" in (\n",
    "            print(text @ number)\n",
    "        )\n",
    "    );\n",
    " '''\n",
    "\n",
    "tokens = lexer(program)\n",
    "parse = parser([token.token_type for token in tokens])\n",
    "assert parse is not None"
   ]
  },
  {
   "cell_type": "code",
   "execution_count": null,
   "metadata": {},
   "outputs": [],
   "source": [
    "program = ''' let a = 6, b = a * 7 in print(b);\n",
    "let a = 6 in\n",
    "    let b = a * 7 in\n",
    "        print(b);\n",
    "let a = 5, b = 10, c = 20 in {\n",
    "    print(a+b);\n",
    "    print(b*c);\n",
    "    print(c/a);\n",
    "}\n",
    "\n",
    "'''\n",
    "\n",
    "tokens = lexer(program)\n",
    "parse = parser([token.token_type for token in tokens])\n",
    "assert parse is not None"
   ]
  },
  {
   "cell_type": "code",
   "execution_count": 43,
   "metadata": {},
   "outputs": [
    {
     "name": "stdout",
     "output_type": "stream",
     "text": [
      "[let: let, id: a, =: =, num: 20, in: in, {: {, let: let, id: a, =: =, num: 42, in: in, id: print, (: (, id: a, ): ), ;: ;, id: print, (: (, id: a, ): ), ;: ;, let: let, id: a, =: =, num: 7, in: in, id: print, (: (, id: a, ): ), ;: ;, let: let, id: a, =: =, num: 7, in: in, let: let, id: a, =: =, num: 7, *: *, num: 6, in: in, id: print, (: (, id: a, ): ), ;: ;, }: }, ;: ;, $: $]\n"
     ]
    }
   ],
   "source": [
    "program = ''' \n",
    "let a = 20 in {\n",
    "    let a = 42 in print(a);\n",
    "    print(a);\n",
    "let a = 7 in print(a);\n",
    "let a = 7 in\n",
    "    let a = 7 * 6 in\n",
    "        print(a);\n",
    "} ;\n",
    "\n",
    "\n",
    "\n",
    "\n",
    "'''\n",
    "\n",
    "tokens = lexer(program)\n",
    "print(tokens)\n",
    "parse = parser([token.token_type for token in tokens])\n",
    "assert parse is not None"
   ]
  },
  {
   "cell_type": "code",
   "execution_count": 38,
   "metadata": {},
   "outputs": [],
   "source": [
    "program = ''' \n",
    "let a = 0 in\n",
    "    let b = a := 1 in {\n",
    "        print(a);\n",
    "        print(b);\n",
    "    };\n",
    "\n",
    "'''\n",
    "\n",
    "tokens = lexer(program)\n",
    "parse = parser([token.token_type for token in tokens])\n",
    "assert parse is not None"
   ]
  },
  {
   "cell_type": "markdown",
   "metadata": {},
   "source": [
    "# Conditionals"
   ]
  },
  {
   "cell_type": "code",
   "execution_count": 40,
   "metadata": {},
   "outputs": [
    {
     "name": "stdout",
     "output_type": "stream",
     "text": [
      "[let: let, id: a, =: =, num: 42, in: in, if: if, (: (, id: a, %: %, num: 2, ==: ==, num: 0, ): ), {: {, id: print, (: (, id: a, ): ), ;: ;, id: print, (: (, str: \"Even\", ): ), ;: ;, }: }, else: else, id: print, (: (, str: \"Odd\", ): ), ;: ;, $: $]\n"
     ]
    }
   ],
   "source": [
    "program = ''' \n",
    "\n",
    "\n",
    "let a = 42 in\n",
    "    if (a % 2 == 0) {\n",
    "        print(a);\n",
    "        print(\"Even\");\n",
    "    }\n",
    "    else print(\"Odd\"); \n",
    "\n",
    "\n",
    "'''\n",
    "\n",
    "tokens = lexer(program)\n",
    "print(tokens)\n",
    "parse = parser([token.token_type for token in tokens])\n",
    "assert parse is not None"
   ]
  },
  {
   "cell_type": "code",
   "execution_count": 42,
   "metadata": {},
   "outputs": [],
   "source": [
    "program = '''let a = 42 in\n",
    "    print(\n",
    "        if (mod == 0) \"Magic\"\n",
    "        elif (mod % 3 == 1) \"Woke\"\n",
    "        else \"Dumb\"\n",
    "    );'''\n",
    "\n",
    "tokens = lexer(program)\n",
    "parse = parser([token.token_type for token in tokens])\n",
    "assert parse is not None"
   ]
  },
  {
   "cell_type": "markdown",
   "metadata": {},
   "source": [
    "# Loops"
   ]
  },
  {
   "cell_type": "code",
   "execution_count": 44,
   "metadata": {},
   "outputs": [
    {
     "name": "stdout",
     "output_type": "stream",
     "text": [
      "[let: let, id: a, =: =, num: 10, in: in, while: while, (: (, id: a, >=: >=, num: 0, ): ), {: {, id: print, (: (, id: a, ): ), ;: ;, id: a, :=: :=, id: a, -: -, num: 1, ;: ;, }: }, ;: ;, $: $]\n"
     ]
    }
   ],
   "source": [
    "program = ''' let a = 10 in while (a >= 0) {\n",
    "    print(a);\n",
    "    a := a - 1;\n",
    "};\n",
    "'''\n",
    "\n",
    "tokens = lexer(program)\n",
    "print(tokens)\n",
    "parse = parser([token.token_type for token in tokens])\n",
    "assert parse is not None"
   ]
  },
  {
   "cell_type": "code",
   "execution_count": 49,
   "metadata": {},
   "outputs": [],
   "source": [
    "program = ''' function gcd ( a , b ) => while (a > 0) \n",
    "    let m = hg in {\n",
    "        b := a;\n",
    "        a := m;\n",
    "    } \n",
    "\n",
    "    a;\n",
    " '''\n",
    "\n",
    "tokens = lexer(program)\n",
    "parse = parser([token.token_type for token in tokens])\n",
    "assert parse is not None"
   ]
  },
  {
   "cell_type": "code",
   "execution_count": 51,
   "metadata": {},
   "outputs": [
    {
     "name": "stdout",
     "output_type": "stream",
     "text": [
      "[for: for, (: (, id: x, in: in, id: range, (: (, num: 0, ,: ,, num: 10, ): ), ): ), id: print, (: (, id: x, ): ), ;: ;, let: let, id: iterable, =: =, id: range, (: (, num: 0, ,: ,, num: 10, ): ), in: in, while: while, (: (, id: iterable, .: ., id: next, (: (, ): ), ): ), let: let, id: x, =: =, id: iterable, .: ., id: current, (: (, ): ), in: in, id: print, (: (, id: x, ): ), ;: ;, $: $]\n"
     ]
    },
    {
     "ename": "AssertionError",
     "evalue": "",
     "output_type": "error",
     "traceback": [
      "\u001b[1;31m---------------------------------------------------------------------------\u001b[0m",
      "\u001b[1;31mAssertionError\u001b[0m                            Traceback (most recent call last)",
      "Cell \u001b[1;32mIn[51], line 11\u001b[0m\n\u001b[0;32m      9\u001b[0m \u001b[38;5;28mprint\u001b[39m(tokens)\n\u001b[0;32m     10\u001b[0m parse \u001b[38;5;241m=\u001b[39m parser([token\u001b[38;5;241m.\u001b[39mtoken_type \u001b[38;5;28;01mfor\u001b[39;00m token \u001b[38;5;129;01min\u001b[39;00m tokens])\n\u001b[1;32m---> 11\u001b[0m \u001b[38;5;28;01massert\u001b[39;00m parse \u001b[38;5;129;01mis\u001b[39;00m \u001b[38;5;129;01mnot\u001b[39;00m \u001b[38;5;28;01mNone\u001b[39;00m\n",
      "\u001b[1;31mAssertionError\u001b[0m: "
     ]
    }
   ],
   "source": [
    "program = ''' for (x in range(0, 10)) print(x);\n",
    "let iterable = range(0, 10) in\n",
    "    while (iterable.next())\n",
    "        let x = iterable.current() in\n",
    "            print(x);\n",
    " '''\n",
    "\n",
    "tokens = lexer(program)\n",
    "print(tokens)\n",
    "parse = parser([token.token_type for token in tokens])\n",
    "assert parse is not None"
   ]
  },
  {
   "cell_type": "markdown",
   "metadata": {},
   "source": [
    "# Types"
   ]
  },
  {
   "cell_type": "code",
   "execution_count": 52,
   "metadata": {},
   "outputs": [
    {
     "name": "stdout",
     "output_type": "stream",
     "text": [
      "[type: type, type_id: Point, {: {, id: x, =: =, num: 0, ;: ;, id: y, =: =, num: 0, ;: ;, id: getX, (: (, ): ), =>: =>, id: self, .: ., id: x, ;: ;, id: getY, (: (, ): ), =>: =>, id: self, .: ., id: y, ;: ;, id: setX, (: (, id: x, ): ), =>: =>, id: self, .: ., id: x, :=: :=, id: x, ;: ;, id: setY, (: (, id: y, ): ), =>: =>, id: self, .: ., id: y, :=: :=, id: y, ;: ;, }: }, id: a, ;: ;, $: $]\n"
     ]
    }
   ],
   "source": [
    "program = ''' type Point {\n",
    "    x = 0;\n",
    "    y = 0;\n",
    "\n",
    "    getX() => self.x;\n",
    "    getY() => self.y;\n",
    "\n",
    "    setX(x) => self.x := x;\n",
    "    setY(y) => self.y := y;\n",
    "}\n",
    "a;\n",
    "\n",
    "'''\n",
    "\n",
    "tokens = lexer(program)\n",
    "print(tokens)\n",
    "parse = parser([token.token_type for token in tokens])\n",
    "assert parse is not None"
   ]
  },
  {
   "cell_type": "code",
   "execution_count": 53,
   "metadata": {},
   "outputs": [],
   "source": [
    "program = ''' { let pt = new Point() in\n",
    "    print(\"x: \" @ pt.getX() @ \"; y: \" @ pt.getY());\n",
    "\n",
    "let pt = new Point(3,4) in\n",
    "    print(\"x: \" @ pt.getX() @ \"; y: \" @ pt.getY()); }\n",
    "\n",
    " '''\n",
    "\n",
    "tokens = lexer(program)\n",
    "parse = parser([token.token_type for token in tokens])\n",
    "assert parse is not None"
   ]
  },
  {
   "cell_type": "code",
   "execution_count": 54,
   "metadata": {},
   "outputs": [],
   "source": [
    "program = ''' let p = new Knight(\"Phil\", \"Collins\") in\n",
    "    print(p.name());\n",
    "    \n",
    "'''\n",
    "\n",
    "tokens = lexer(program)\n",
    "parse = parser([token.token_type for token in tokens])\n",
    "assert parse is not None"
   ]
  },
  {
   "cell_type": "markdown",
   "metadata": {},
   "source": [
    "# Type checking"
   ]
  },
  {
   "cell_type": "code",
   "execution_count": 55,
   "metadata": {},
   "outputs": [],
   "source": [
    "program = ''' let x: Number = 42 in print(x);\n",
    "'''\n",
    "\n",
    "tokens = lexer(program)\n",
    "parse = parser([token.token_type for token in tokens])\n",
    "assert parse is not None"
   ]
  },
  {
   "cell_type": "code",
   "execution_count": 56,
   "metadata": {},
   "outputs": [],
   "source": [
    "program = ''' function tan(x: Number): Number => sin(x) / cos(x);\n",
    "\n",
    "let x = new Superman() in\n",
    "    print(\n",
    "        if (x is Bird) \"It's bird!\"\n",
    "        elif (x is Plane) \"It's a plane!\"\n",
    "        else \"No, it's Superman!\"\n",
    "    );\n",
    "\n",
    "\n",
    "'''\n",
    "\n",
    "tokens = lexer(program)\n",
    "parse = parser([token.token_type for token in tokens])\n",
    "assert parse is not None"
   ]
  },
  {
   "cell_type": "code",
   "execution_count": 57,
   "metadata": {},
   "outputs": [],
   "source": [
    "program = ''' let x : A = if (rand() < 0.5) new B() else new C() in\n",
    "    if (x is B)\n",
    "        let y : B = x as B in {\n",
    "            a;\n",
    "        }\n",
    "    else {\n",
    "        b;\n",
    "    };\n",
    "    '''\n",
    "\n",
    "tokens = lexer(program)\n",
    "parse = parser([token.token_type for token in tokens])\n",
    "assert parse is not None"
   ]
  },
  {
   "cell_type": "markdown",
   "metadata": {},
   "source": [
    "# Type inference"
   ]
  },
  {
   "cell_type": "code",
   "execution_count": 58,
   "metadata": {},
   "outputs": [],
   "source": [
    "program = ''' function fib(n) => if (n == 0 | n == 1) 1 else fib(n-1) + fib(n-2);\n",
    "a;\n",
    "'''\n",
    "\n",
    "tokens = lexer(program)\n",
    "parse = parser([token.token_type for token in tokens])\n",
    "assert parse is not None"
   ]
  },
  {
   "cell_type": "code",
   "execution_count": 59,
   "metadata": {},
   "outputs": [],
   "source": [
    "program = '''function fact(x) => let f = 1 in for (i in range(1, x+1)) f := f * i;\n",
    "a;\n",
    " '''\n",
    "\n",
    "tokens = lexer(program)\n",
    "parse = parser([token.token_type for token in tokens])\n",
    "assert parse is not None"
   ]
  },
  {
   "cell_type": "markdown",
   "metadata": {},
   "source": [
    "# Protocols"
   ]
  },
  {
   "cell_type": "code",
   "execution_count": 61,
   "metadata": {},
   "outputs": [
    {
     "name": "stdout",
     "output_type": "stream",
     "text": [
      "[protocol: protocol, type_id: Hashable, {: {, id: hash, (: (, ): ), :: :, type_id: Number, ;: ;, }: }, id: a, ;: ;, $: $]\n"
     ]
    },
    {
     "ename": "AssertionError",
     "evalue": "",
     "output_type": "error",
     "traceback": [
      "\u001b[1;31m---------------------------------------------------------------------------\u001b[0m",
      "\u001b[1;31mAssertionError\u001b[0m                            Traceback (most recent call last)",
      "Cell \u001b[1;32mIn[61], line 11\u001b[0m\n\u001b[0;32m      9\u001b[0m \u001b[38;5;28mprint\u001b[39m(tokens)\n\u001b[0;32m     10\u001b[0m parse \u001b[38;5;241m=\u001b[39m parser([token\u001b[38;5;241m.\u001b[39mtoken_type \u001b[38;5;28;01mfor\u001b[39;00m token \u001b[38;5;129;01min\u001b[39;00m tokens])\n\u001b[1;32m---> 11\u001b[0m \u001b[38;5;28;01massert\u001b[39;00m parse \u001b[38;5;129;01mis\u001b[39;00m \u001b[38;5;129;01mnot\u001b[39;00m \u001b[38;5;28;01mNone\u001b[39;00m\n",
      "\u001b[1;31mAssertionError\u001b[0m: "
     ]
    }
   ],
   "source": [
    "program = ''' protocol Hashable {\n",
    "    hash(): Number;\n",
    "}\n",
    "a;\n",
    "\n",
    "'''\n",
    "\n",
    "tokens = lexer(program)\n",
    "print(tokens)\n",
    "parse = parser([token.token_type for token in tokens])\n",
    "assert parse is not None"
   ]
  },
  {
   "cell_type": "code",
   "execution_count": null,
   "metadata": {},
   "outputs": [],
   "source": [
    "program = ''' protocol Equatable extends Hashable {\n",
    "    equals(other: Object): Boolean;\n",
    "} \n",
    "\n",
    "let x : Hashable = new Person() in print(x.hash());\n",
    "'''\n",
    "\n",
    "tokens = lexer(program)\n",
    "parse = parser([token.token_type for token in tokens])\n",
    "assert parse is not None"
   ]
  },
  {
   "cell_type": "markdown",
   "metadata": {},
   "source": [
    "# Iterables"
   ]
  },
  {
   "cell_type": "code",
   "execution_count": 62,
   "metadata": {},
   "outputs": [
    {
     "ename": "AssertionError",
     "evalue": "",
     "output_type": "error",
     "traceback": [
      "\u001b[1;31m---------------------------------------------------------------------------\u001b[0m",
      "\u001b[1;31mAssertionError\u001b[0m                            Traceback (most recent call last)",
      "Cell \u001b[1;32mIn[62], line 9\u001b[0m\n\u001b[0;32m      7\u001b[0m tokens \u001b[38;5;241m=\u001b[39m lexer(program)\n\u001b[0;32m      8\u001b[0m parse \u001b[38;5;241m=\u001b[39m parser([token\u001b[38;5;241m.\u001b[39mtoken_type \u001b[38;5;28;01mfor\u001b[39;00m token \u001b[38;5;129;01min\u001b[39;00m tokens])\n\u001b[1;32m----> 9\u001b[0m \u001b[38;5;28;01massert\u001b[39;00m parse \u001b[38;5;129;01mis\u001b[39;00m \u001b[38;5;129;01mnot\u001b[39;00m \u001b[38;5;28;01mNone\u001b[39;00m\n",
      "\u001b[1;31mAssertionError\u001b[0m: "
     ]
    }
   ],
   "source": [
    "program = '''\n",
    "protocol Iterable {\n",
    "    next() : Boolean;\n",
    "    current() : Object;\n",
    "} '''\n",
    "\n",
    "tokens = lexer(program)\n",
    "parse = parser([token.token_type for token in tokens])\n",
    "assert parse is not None"
   ]
  },
  {
   "cell_type": "code",
   "execution_count": 63,
   "metadata": {},
   "outputs": [],
   "source": [
    "program = ''' let iterable = range(0, 10) in\n",
    "    while (iterable.next())\n",
    "        let x = iterable.current() in {\n",
    "            print(x);\n",
    "        } ;\n",
    "'''\n",
    "\n",
    "tokens = lexer(program)\n",
    "parse = parser([token.token_type for token in tokens])\n",
    "assert parse is not None"
   ]
  },
  {
   "cell_type": "markdown",
   "metadata": {},
   "source": [
    "# Vectors"
   ]
  },
  {
   "cell_type": "code",
   "execution_count": 64,
   "metadata": {},
   "outputs": [],
   "source": [
    "program = ''' let numbers = [1,2,3,4,5,6,7,8,9] in\n",
    "    for (x in numbers)\n",
    "        print(x);\n",
    "\n",
    "\n",
    "\n",
    "'''\n",
    "\n",
    "tokens = lexer(program)\n",
    "parse = parser([token.token_type for token in tokens])\n",
    "assert parse is not None"
   ]
  },
  {
   "cell_type": "code",
   "execution_count": 65,
   "metadata": {},
   "outputs": [],
   "source": [
    "program = ''' let numbers = [1,2,3,4,5,6,7,8,9] in print(numbers[7]);'''\n",
    "\n",
    "tokens = lexer(program)\n",
    "parse = parser([token.token_type for token in tokens])\n",
    "assert parse is not None"
   ]
  },
  {
   "cell_type": "code",
   "execution_count": 66,
   "metadata": {},
   "outputs": [],
   "source": [
    "program = ''' let squares = [x^2 || x in range(1,10)] in print(x);\n",
    "\n",
    "'''\n",
    "\n",
    "tokens = lexer(program)\n",
    "parse = parser([token.token_type for token in tokens])\n",
    "assert parse is not None"
   ]
  }
 ],
 "metadata": {
  "kernelspec": {
   "display_name": "Python 3",
   "language": "python",
   "name": "python3"
  },
  "language_info": {
   "codemirror_mode": {
    "name": "ipython",
    "version": 3
   },
   "file_extension": ".py",
   "mimetype": "text/x-python",
   "name": "python",
   "nbconvert_exporter": "python",
   "pygments_lexer": "ipython3",
   "version": "3.11.2"
  }
 },
 "nbformat": 4,
 "nbformat_minor": 2
}
